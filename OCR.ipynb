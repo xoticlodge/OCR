{
 "cells": [
  {
   "cell_type": "code",
   "execution_count": null,
   "id": "9b99b129-1900-402d-a944-2f864967b34d",
   "metadata": {},
   "outputs": [],
   "source": [
    "#dependencies\n",
    "!pip uninstall Pillow #pillow must be 9.5\n",
    "!pip install torch torchvision torchaudio\n",
    "!pip install easyocr\n",
    "!pip install Pillow==9.5.0"
   ]
  },
  {
   "cell_type": "code",
   "execution_count": 5,
   "id": "dc7de38e-9148-43b2-9fd2-26f5bb7d3e93",
   "metadata": {},
   "outputs": [],
   "source": [
    "import easyocr\n",
    "import cv2\n",
    "from matplotlib import pyplot as plt\n",
    "import numpy as np"
   ]
  },
  {
   "cell_type": "code",
   "execution_count": 295,
   "id": "e2bfa7a9-d6db-4379-9182-23b70c829539",
   "metadata": {},
   "outputs": [],
   "source": [
    "def show_image():\n",
    "    plt.figure(figsize =(15,15))#image size\n",
    "    plt.imshow(img)\n",
    "    plt.show()"
   ]
  },
  {
   "cell_type": "code",
   "execution_count": 297,
   "id": "4cffb62e-cffb-4616-b58b-685f0a58fc1b",
   "metadata": {},
   "outputs": [],
   "source": [
    "def confidence_score(extraction):\n",
    "    for text in results:\n",
    "        extracted_text = text[1]\n",
    "        confidence_score = text[2]\n",
    "        print(extracted_text, \"|\" , round(confidence_score,1))"
   ]
  },
  {
   "cell_type": "code",
   "execution_count": 1,
   "id": "15ed5542-525a-4a6d-aa44-9f65c72bf119",
   "metadata": {},
   "outputs": [],
   "source": [
    "IMAGE_PATH ='' #Input file path\n",
    "#image must be aligned in landscape format"
   ]
  },
  {
   "cell_type": "code",
   "execution_count": null,
   "id": "a1c2bab1-b979-4dda-96d3-d45c7536f887",
   "metadata": {},
   "outputs": [],
   "source": [
    "reader = easyocr.Reader(['en'], gpu=False)\n",
    "results = reader.readtext(IMAGE_PATH)\n",
    "\n",
    "for detection in results:\n",
    "    top_left = tuple([int(val) for val in detection[0][0]])\n",
    "    bottom_right = tuple([int(val) for val in detection[0][2]])\n",
    "    text = detection[1]\n",
    "    font = cv2.FONT_HERSHEY_SIMPLEX\n",
    "    img = cv2.rectangle(img, top_left, bottom_right,(255,255,255),5)\n",
    "    img = cv2.putText(img, text, top_left, font, .5, (255,255,0),1,cv2.LINE_AA)"
   ]
  },
  {
   "cell_type": "code",
   "execution_count": null,
   "id": "08c3cf08-72a6-4b3e-b96f-47ec0dabb1d8",
   "metadata": {},
   "outputs": [],
   "source": [
    "\"\"\" Test\n",
    "top_left = tuple(results[0][0][0])\n",
    "bottom_right = tuple(results[0][0][2])\n",
    "text = results[0][1]\n",
    "font = cv2.FONT_HERSHEY_SIMPLEX\n",
    "img = cv2.imread(IMAGE_PATH)\n",
    "img = cv2.rectangle(img, top_left, bottom_right,(0,255,0),5)\n",
    "\n",
    "#creates a rectangle within the read text,color of rectangle ,outline thickness \n",
    "img = cv2.putText(img,text, top_left, font, 2, (255,255,0),3,cv2.LINE_AA)\n",
    "#(image,text, position, fontsize, RGB Value, fontwidth, linestyle)\n",
    "plt.imshow(img)#visualize\n",
    "plt.show()#show image\n",
    "\"\"\""
   ]
  },
  {
   "cell_type": "code",
   "execution_count": null,
   "id": "54c8b302-db81-4b77-8d63-1169fd997ada",
   "metadata": {},
   "outputs": [],
   "source": [
    "show_image()\n",
    "confidence_score(results)"
   ]
  }
 ],
 "metadata": {
  "kernelspec": {
   "display_name": "Python [conda env:base] *",
   "language": "python",
   "name": "conda-base-py"
  },
  "language_info": {
   "codemirror_mode": {
    "name": "ipython",
    "version": 3
   },
   "file_extension": ".py",
   "mimetype": "text/x-python",
   "name": "python",
   "nbconvert_exporter": "python",
   "pygments_lexer": "ipython3",
   "version": "3.9.19"
  }
 },
 "nbformat": 4,
 "nbformat_minor": 5
}
