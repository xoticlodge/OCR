{
 "cells": [
  {
   "cell_type": "code",
   "execution_count": 7,
   "id": "a2faa6ea-dfc9-40f4-8aa8-89051f590a6d",
   "metadata": {},
   "outputs": [
    {
     "name": "stdout",
     "output_type": "stream",
     "text": [
      "Requirement already satisfied: torch in c:\\users\\jacky\\anaconda3\\lib\\site-packages (1.11.0)\n",
      "Requirement already satisfied: torchvision in c:\\users\\jacky\\anaconda3\\lib\\site-packages (0.12.0)\n",
      "Collecting torchaudio\n",
      "  Downloading torchaudio-2.6.0-cp39-cp39-win_amd64.whl.metadata (6.7 kB)\n",
      "Requirement already satisfied: typing-extensions in c:\\users\\jacky\\anaconda3\\lib\\site-packages (from torch) (4.12.2)\n",
      "Requirement already satisfied: numpy in c:\\users\\jacky\\anaconda3\\lib\\site-packages (from torchvision) (1.26.4)\n",
      "Requirement already satisfied: requests in c:\\users\\jacky\\anaconda3\\lib\\site-packages (from torchvision) (2.31.0)\n",
      "Requirement already satisfied: pillow!=8.3.*,>=5.3.0 in c:\\users\\jacky\\anaconda3\\lib\\site-packages (from torchvision) (10.3.0)\n",
      "INFO: pip is looking at multiple versions of torchaudio to determine which version is compatible with other requirements. This could take a while.\n",
      "  Downloading torchaudio-2.5.1-cp39-cp39-win_amd64.whl.metadata (6.5 kB)\n",
      "  Downloading torchaudio-2.5.0-cp39-cp39-win_amd64.whl.metadata (6.5 kB)\n",
      "  Downloading torchaudio-2.4.1-cp39-cp39-win_amd64.whl.metadata (6.5 kB)\n",
      "  Downloading torchaudio-2.4.0-cp39-cp39-win_amd64.whl.metadata (6.4 kB)\n",
      "  Downloading torchaudio-2.3.1-cp39-cp39-win_amd64.whl.metadata (6.4 kB)\n",
      "  Downloading torchaudio-2.3.0-cp39-cp39-win_amd64.whl.metadata (6.4 kB)\n",
      "  Downloading torchaudio-2.2.2-cp39-cp39-win_amd64.whl.metadata (6.4 kB)\n",
      "INFO: pip is still looking at multiple versions of torchaudio to determine which version is compatible with other requirements. This could take a while.\n",
      "  Downloading torchaudio-2.2.1-cp39-cp39-win_amd64.whl.metadata (6.4 kB)\n",
      "  Downloading torchaudio-2.2.0-cp39-cp39-win_amd64.whl.metadata (6.4 kB)\n",
      "  Downloading torchaudio-2.1.2-cp39-cp39-win_amd64.whl.metadata (6.4 kB)\n",
      "  Downloading torchaudio-2.1.1-cp39-cp39-win_amd64.whl.metadata (6.4 kB)\n",
      "  Downloading torchaudio-2.1.0-cp39-cp39-win_amd64.whl.metadata (5.7 kB)\n",
      "INFO: This is taking longer than usual. You might need to provide the dependency resolver with stricter constraints to reduce runtime. See https://pip.pypa.io/warnings/backtracking for guidance. If you want to abort this run, press Ctrl + C.\n",
      "  Downloading torchaudio-2.0.2-cp39-cp39-win_amd64.whl.metadata (1.2 kB)\n",
      "  Downloading torchaudio-2.0.1-cp39-cp39-win_amd64.whl.metadata (1.2 kB)\n",
      "  Downloading torchaudio-0.13.1-cp39-cp39-win_amd64.whl.metadata (998 bytes)\n",
      "  Downloading torchaudio-0.13.0-cp39-cp39-win_amd64.whl.metadata (998 bytes)\n",
      "  Downloading torchaudio-0.12.1-cp39-cp39-win_amd64.whl.metadata (1.0 kB)\n",
      "  Downloading torchaudio-0.12.0-cp39-cp39-win_amd64.whl.metadata (1.0 kB)\n",
      "  Downloading torchaudio-0.11.0-cp39-cp39-win_amd64.whl.metadata (1.0 kB)\n",
      "Requirement already satisfied: charset-normalizer<4,>=2 in c:\\users\\jacky\\anaconda3\\lib\\site-packages (from requests->torchvision) (2.0.4)\n",
      "Requirement already satisfied: idna<4,>=2.5 in c:\\users\\jacky\\anaconda3\\lib\\site-packages (from requests->torchvision) (3.7)\n",
      "Requirement already satisfied: urllib3<3,>=1.21.1 in c:\\users\\jacky\\anaconda3\\lib\\site-packages (from requests->torchvision) (2.1.0)\n",
      "Requirement already satisfied: certifi>=2017.4.17 in c:\\users\\jacky\\anaconda3\\lib\\site-packages (from requests->torchvision) (2025.1.31)\n",
      "Downloading torchaudio-0.11.0-cp39-cp39-win_amd64.whl (372 kB)\n",
      "   ---------------------------------------- 0.0/372.4 kB ? eta -:--:--\n",
      "   --------------------------------------- 372.4/372.4 kB 22.6 MB/s eta 0:00:00\n",
      "Installing collected packages: torchaudio\n",
      "Successfully installed torchaudio-0.11.0\n",
      "Requirement already satisfied: easyocr in c:\\users\\jacky\\anaconda3\\lib\\site-packages (1.5.0)\n",
      "Requirement already satisfied: torch in c:\\users\\jacky\\anaconda3\\lib\\site-packages (from easyocr) (1.11.0)\n",
      "Requirement already satisfied: torchvision>=0.5 in c:\\users\\jacky\\anaconda3\\lib\\site-packages (from easyocr) (0.12.0)\n",
      "Requirement already satisfied: opencv-python-headless<=4.5.4.60 in c:\\users\\jacky\\anaconda3\\lib\\site-packages (from easyocr) (4.5.4.60)\n",
      "Requirement already satisfied: scipy in c:\\users\\jacky\\anaconda3\\lib\\site-packages (from easyocr) (1.13.1)\n",
      "Requirement already satisfied: numpy in c:\\users\\jacky\\anaconda3\\lib\\site-packages (from easyocr) (1.26.4)\n",
      "Requirement already satisfied: Pillow in c:\\users\\jacky\\anaconda3\\lib\\site-packages (from easyocr) (10.3.0)\n",
      "Requirement already satisfied: scikit-image in c:\\users\\jacky\\anaconda3\\lib\\site-packages (from easyocr) (0.24.0)\n",
      "Requirement already satisfied: python-bidi in c:\\users\\jacky\\anaconda3\\lib\\site-packages (from easyocr) (0.4.2)\n",
      "Requirement already satisfied: PyYAML in c:\\users\\jacky\\anaconda3\\lib\\site-packages (from easyocr) (6.0.1)\n",
      "Requirement already satisfied: typing-extensions in c:\\users\\jacky\\anaconda3\\lib\\site-packages (from torchvision>=0.5->easyocr) (4.12.2)\n",
      "Requirement already satisfied: requests in c:\\users\\jacky\\anaconda3\\lib\\site-packages (from torchvision>=0.5->easyocr) (2.31.0)\n",
      "Requirement already satisfied: six in c:\\users\\jacky\\anaconda3\\lib\\site-packages (from python-bidi->easyocr) (1.16.0)\n",
      "Requirement already satisfied: networkx>=2.8 in c:\\users\\jacky\\anaconda3\\lib\\site-packages (from scikit-image->easyocr) (3.2.1)\n",
      "Requirement already satisfied: imageio>=2.33 in c:\\users\\jacky\\anaconda3\\lib\\site-packages (from scikit-image->easyocr) (2.37.0)\n",
      "Requirement already satisfied: tifffile>=2022.8.12 in c:\\users\\jacky\\anaconda3\\lib\\site-packages (from scikit-image->easyocr) (2024.8.30)\n",
      "Requirement already satisfied: packaging>=21 in c:\\users\\jacky\\anaconda3\\lib\\site-packages (from scikit-image->easyocr) (23.2)\n",
      "Requirement already satisfied: lazy-loader>=0.4 in c:\\users\\jacky\\anaconda3\\lib\\site-packages (from scikit-image->easyocr) (0.4)\n",
      "Requirement already satisfied: charset-normalizer<4,>=2 in c:\\users\\jacky\\anaconda3\\lib\\site-packages (from requests->torchvision>=0.5->easyocr) (2.0.4)\n",
      "Requirement already satisfied: idna<4,>=2.5 in c:\\users\\jacky\\anaconda3\\lib\\site-packages (from requests->torchvision>=0.5->easyocr) (3.7)\n",
      "Requirement already satisfied: urllib3<3,>=1.21.1 in c:\\users\\jacky\\anaconda3\\lib\\site-packages (from requests->torchvision>=0.5->easyocr) (2.1.0)\n",
      "Requirement already satisfied: certifi>=2017.4.17 in c:\\users\\jacky\\anaconda3\\lib\\site-packages (from requests->torchvision>=0.5->easyocr) (2025.1.31)\n"
     ]
    }
   ],
   "source": [
    "#dependencies\n",
    "!pip uninstall Pillow #pillow must be 9.5\n",
    "!pip install torch torchvision torchaudio\n",
    "!pip install easyocr\n",
    "!pip install Pillow==9.5.0"
   ]
  },
  {
   "cell_type": "code",
   "execution_count": 5,
   "id": "dc7de38e-9148-43b2-9fd2-26f5bb7d3e93",
   "metadata": {},
   "outputs": [],
   "source": [
    "import easyocr\n",
    "import cv2\n",
    "from matplotlib import pyplot as plt\n",
    "import numpy as np"
   ]
  },
  {
   "cell_type": "code",
   "execution_count": 295,
   "id": "e2bfa7a9-d6db-4379-9182-23b70c829539",
   "metadata": {},
   "outputs": [],
   "source": [
    "def show_image():\n",
    "    plt.figure(figsize =(15,15))#image size\n",
    "    plt.imshow(img)\n",
    "    plt.show()"
   ]
  },
  {
   "cell_type": "code",
   "execution_count": 297,
   "id": "4cffb62e-cffb-4616-b58b-685f0a58fc1b",
   "metadata": {},
   "outputs": [],
   "source": [
    "def confidence_score(extraction):\n",
    "    for text in results:\n",
    "        extracted_text = text[1]\n",
    "        confidence_score = text[2]\n",
    "        print(extracted_text, \"|\" , round(confidence_score,1))"
   ]
  },
  {
   "cell_type": "code",
   "execution_count": 299,
   "id": "15ed5542-525a-4a6d-aa44-9f65c72bf119",
   "metadata": {},
   "outputs": [],
   "source": [
    "IMAGE_PATH ='' #Input file path\n",
    "#image must be aligned in landscape format"
   ]
  },
  {
   "cell_type": "code",
   "execution_count": 311,
   "id": "d978c9ea-2be3-4fa6-8811-1a2eb83b519d",
   "metadata": {},
   "outputs": [
    {
     "name": "stderr",
     "output_type": "stream",
     "text": [
      "Using CPU. Note: This module is much faster with a GPU.\n"
     ]
    }
   ],
   "source": [
    "reader = easyocr.Reader(['en'], gpu=False)\n",
    "results = reader.readtext(IMAGE_PATH)\n",
    "\n",
    "for detection in results:\n",
    "    top_left = tuple([int(val) for val in detection[0][0]])\n",
    "    bottom_right = tuple([int(val) for val in detection[0][2]])\n",
    "    text = detection[1]\n",
    "    font = cv2.FONT_HERSHEY_SIMPLEX\n",
    "    img = cv2.rectangle(img, top_left, bottom_right,(255,255,255),5)\n",
    "    img = cv2.putText(img, text, top_left, font, .5, (255,255,0),1,cv2.LINE_AA)"
   ]
  },
  {
   "cell_type": "code",
   "execution_count": 271,
   "id": "803bd0a4-35c0-48f0-b6e9-d1e8a23b4c0d",
   "metadata": {},
   "outputs": [
    {
     "data": {
      "text/plain": [
       "'\\ntop_left = tuple(results[0][0][0])\\nbottom_right = tuple(results[0][0][2])\\ntext = results[0][1]\\nfont = cv2.FONT_HERSHEY_SIMPLEX\\nimg = cv2.imread(IMAGE_PATH)\\nimg = cv2.rectangle(img, top_left, bottom_right,(0,255,0),5)\\n\\n#creates a rectangle within the read text,color of rectangle ,outline thickness \\nimg = cv2.putText(img,text, top_left, font, 2, (255,255,0),3,cv2.LINE_AA)\\n#pass imagine and text, position the text, fontsize, text color, font size \\nplt.imshow(img)#visualize\\nplt.show()#show image\\n'"
      ]
     },
     "execution_count": 271,
     "metadata": {},
     "output_type": "execute_result"
    }
   ],
   "source": [
    "\"\"\" Test\n",
    "top_left = tuple(results[0][0][0])\n",
    "bottom_right = tuple(results[0][0][2])\n",
    "text = results[0][1]\n",
    "font = cv2.FONT_HERSHEY_SIMPLEX\n",
    "img = cv2.imread(IMAGE_PATH)\n",
    "img = cv2.rectangle(img, top_left, bottom_right,(0,255,0),5)\n",
    "\n",
    "#creates a rectangle within the read text,color of rectangle ,outline thickness \n",
    "img = cv2.putText(img,text, top_left, font, 2, (255,255,0),3,cv2.LINE_AA)\n",
    "#(image,text, position, fontsize, RGB Value, fontwidth, linestyle)\n",
    "plt.imshow(img)#visualize\n",
    "plt.show()#show image\n",
    "\"\"\""
   ]
  },
  {
   "cell_type": "code",
   "execution_count": 315,
   "id": "cdf1a32a-ed5f-4067-a7b6-173f80d70325",
   "metadata": {},
   "outputs": [
    {
     "name": "stdout",
     "output_type": "stream",
     "text": [
      "Use of this card is subject to the credit card agreement | 0.7\n",
      "65738C001 | 0.9\n",
      "Customer Service: (866) 281-2504 | 0.6\n",
      "Int'] collect: (614) 729-3093 | 0.7\n",
      "TDDITTY: (800) 695-1788 | 0.6\n",
      "401 | 1.0\n",
      "118960 12/19 cpi-in ( | 0.4\n",
      "AUTHORIZED SIGNATURE | 0.8\n",
      "NOT VALID UNLESS SIGNED | 0.7\n",
      "4402 6330,2392 1973 | 0.5\n",
      "JACKY MAI | 0.6\n",
      "VALID THRU 11/24 | 0.9\n",
      "PlayStation | 1.0\n",
      "Visa | 0.8\n",
      "Credit Card Accounts are issued by Comenity Bank pursuant to a license from Visa U.SA: Inc: | 0.8\n",
      "Comenity net/PlayStationVisa | 0.8\n"
     ]
    }
   ],
   "source": [
    "show_image()\n",
    "confidence_score(results)"
   ]
  },
  {
   "cell_type": "code",
   "execution_count": null,
   "id": "54c8b302-db81-4b77-8d63-1169fd997ada",
   "metadata": {},
   "outputs": [],
   "source": []
  }
 ],
 "metadata": {
  "kernelspec": {
   "display_name": "Python [conda env:base] *",
   "language": "python",
   "name": "conda-base-py"
  },
  "language_info": {
   "codemirror_mode": {
    "name": "ipython",
    "version": 3
   },
   "file_extension": ".py",
   "mimetype": "text/x-python",
   "name": "python",
   "nbconvert_exporter": "python",
   "pygments_lexer": "ipython3",
   "version": "3.9.19"
  }
 },
 "nbformat": 4,
 "nbformat_minor": 5
}
